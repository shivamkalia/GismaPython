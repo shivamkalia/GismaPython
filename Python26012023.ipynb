{
  "nbformat": 4,
  "nbformat_minor": 0,
  "metadata": {
    "colab": {
      "provenance": [],
      "authorship_tag": "ABX9TyPKKeF83TfwvuRlFlYMzZ9M",
      "include_colab_link": true
    },
    "kernelspec": {
      "name": "python3",
      "display_name": "Python 3"
    },
    "language_info": {
      "name": "python"
    }
  },
  "cells": [
    {
      "cell_type": "markdown",
      "metadata": {
        "id": "view-in-github",
        "colab_type": "text"
      },
      "source": [
        "<a href=\"https://colab.research.google.com/github/shivamkalia/GismaPython/blob/main/Python26012023.ipynb\" target=\"_parent\"><img src=\"https://colab.research.google.com/assets/colab-badge.svg\" alt=\"Open In Colab\"/></a>"
      ]
    },
    {
      "cell_type": "markdown",
      "source": [
        "Python 26-01-2023"
      ],
      "metadata": {
        "id": "Dw81O8UwJ1J4"
      }
    },
    {
      "cell_type": "markdown",
      "source": [
        "Assignment Operators"
      ],
      "metadata": {
        "id": "ARwtPli7KGOa"
      }
    },
    {
      "cell_type": "code",
      "execution_count": 13,
      "metadata": {
        "colab": {
          "base_uri": "https://localhost:8080/"
        },
        "id": "EVmc7i4xJ0ew",
        "outputId": "33361c28-d5d6-461d-8c89-629ed8296aaf"
      },
      "outputs": [
        {
          "output_type": "execute_result",
          "data": {
            "text/plain": [
              "20"
            ]
          },
          "metadata": {},
          "execution_count": 13
        }
      ],
      "source": [
        "x = 5\n",
        "x += 5\n",
        "x\n",
        "\n",
        "y = 5\n",
        "y **= 2\n",
        "y \n",
        "\n",
        "\n",
        "y **= 2\n",
        "y \n",
        "\n",
        "z = 6\n",
        "z |= 3\n",
        "z\n",
        "\n",
        "x = x + abs(-10)\n",
        "x\n"
      ]
    }
  ]
}