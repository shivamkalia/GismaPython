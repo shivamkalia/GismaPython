{
  "nbformat": 4,
  "nbformat_minor": 0,
  "metadata": {
    "colab": {
      "provenance": [],
      "toc_visible": true,
      "gpuType": "T4",
      "authorship_tag": "ABX9TyOtj2BS7iYuJr2glx6QHvB8",
      "include_colab_link": true
    },
    "kernelspec": {
      "name": "python3",
      "display_name": "Python 3"
    },
    "language_info": {
      "name": "python"
    },
    "accelerator": "GPU"
  },
  "cells": [
    {
      "cell_type": "markdown",
      "metadata": {
        "id": "view-in-github",
        "colab_type": "text"
      },
      "source": [
        "<a href=\"https://colab.research.google.com/github/shivamkalia/GismaPython/blob/main/M516_Business_Project_in_Big_Data_%26_AI_(WS0923.ipynb\" target=\"_parent\"><img src=\"https://colab.research.google.com/assets/colab-badge.svg\" alt=\"Open In Colab\"/></a>"
      ]
    },
    {
      "cell_type": "markdown",
      "source": [
        "# Import statements and Data\n"
      ],
      "metadata": {
        "id": "jtCxgmmTNUYd"
      }
    },
    {
      "cell_type": "code",
      "source": [
        "import os\n",
        "import cv2\n",
        "import json\n",
        "import numpy as np\n",
        "import pandas as pd\n",
        "import matplotlib.pyplot as plt\n",
        "import math\n",
        "\n",
        "from sklearn.model_selection import train_test_split\n",
        "\n",
        "from tensorflow.keras import layers, models\n",
        "from tensorflow.keras.optimizers import Adam\n",
        "from tensorflow.keras.applications import Xception\n",
        "from tensorflow.keras.preprocessing.image import ImageDataGenerator\n",
        "import tensorflow as tf\n",
        "from tensorflow.keras.callbacks import ModelCheckpoint, ReduceLROnPlateau, EarlyStopping"
      ],
      "metadata": {
        "id": "sRL58De2Nctj"
      },
      "execution_count": 1,
      "outputs": []
    },
    {
      "cell_type": "code",
      "source": [
        "from google.colab import drive\n",
        "drive.mount('/content/drive/')"
      ],
      "metadata": {
        "id": "32qDnB9gNffT"
      },
      "execution_count": null,
      "outputs": []
    },
    {
      "cell_type": "code",
      "source": [
        "cassava = pd.read_csv('drive/MyDrive/cassava/train.csv')\n",
        "cassava.head(10)"
      ],
      "metadata": {
        "id": "y1mml5NdNsMm"
      },
      "execution_count": null,
      "outputs": []
    },
    {
      "cell_type": "markdown",
      "source": [
        "The data was a too big to be directly uploaded onto collab hence used Google drive to use the data. Here is a csv that is first used to show the image id of image in a separate folder and the label given to them by experts."
      ],
      "metadata": {
        "id": "ysZV85rrU2K0"
      }
    },
    {
      "cell_type": "markdown",
      "source": [
        "# EDA and Visualization"
      ],
      "metadata": {
        "id": "UzzNCKqCNhbZ"
      }
    },
    {
      "cell_type": "code",
      "source": [
        "with open('drive/MyDrive/cassava/label_num_to_disease_map.json') as label:\n",
        "    mapping = json.loads(label.read())\n",
        "    print(mapping)"
      ],
      "metadata": {
        "colab": {
          "base_uri": "https://localhost:8080/"
        },
        "id": "G26HZL5A3hPY",
        "outputId": "1541285b-a51a-478c-fd63-101183e7cfb7"
      },
      "execution_count": 5,
      "outputs": [
        {
          "output_type": "stream",
          "name": "stdout",
          "text": [
            "{'0': 'Cassava Bacterial Blight (CBB)', '1': 'Cassava Brown Streak Disease (CBSD)', '2': 'Cassava Green Mottle (CGM)', '3': 'Cassava Mosaic Disease (CMD)', '4': 'Healthy'}\n"
          ]
        }
      ]
    },
    {
      "cell_type": "code",
      "source": [
        "\n",
        "total_count = len(cassava)\n",
        "label_counts = cassava['label'].value_counts()\n",
        "labels = mapping.values()\n",
        "\n",
        "plt.pie(label_counts, labels=labels, autopct='%1.1f%%', startangle=90)\n",
        "plt.text(-1.5, 0, f'Total: {total_count}', ha='center', va='center', fontsize=12, color='blue')\n",
        "plt.show()"
      ],
      "metadata": {
        "id": "mKxUJR7ZVhtA"
      },
      "execution_count": null,
      "outputs": []
    },
    {
      "cell_type": "markdown",
      "source": [
        "Here we have plotted a pie chart to show the distribution of the images we have. We can clearly see that CBB inages are more than half of the data and that can be taken as one of the drawbacks if the data."
      ],
      "metadata": {
        "id": "ZwYLlUO_WQa_"
      }
    },
    {
      "cell_type": "code",
      "source": [
        "def leafVisualizations(img_list):\n",
        "    ROWS = 2\n",
        "    COLS = 4\n",
        "\n",
        "    plt.figure(figsize=(20, 10))\n",
        "\n",
        "    # Loop through the subplots\n",
        "    for i in range(ROWS * COLS):\n",
        "\n",
        "        plt.subplot(ROWS, COLS, i + 1)\n",
        "\n",
        "        # Picking Random images from list\n",
        "        leaf = np.random.randint(len(img_list))\n",
        "        img_path = \"drive/MyDrive/cassava/train_images/\" + str(img_list[leaf])\n",
        "        img = cv2.imread(img_path)\n",
        "        img = cv2.cvtColor(img, cv2.COLOR_BGR2RGB)\n",
        "\n",
        "        plt.xticks([])\n",
        "        plt.yticks([])\n",
        "        plt.title(str(img_list[leaf]))\n",
        "        plt.imshow(img)\n",
        "\n",
        "    plt.tight_layout()\n",
        "    plt.show()"
      ],
      "metadata": {
        "id": "qAWkD8gCVjZh"
      },
      "execution_count": 27,
      "outputs": []
    },
    {
      "cell_type": "markdown",
      "source": [
        "Here I have written a a method that I will later call to get pictures of leaves from the list that I wil later cfreate and display them in a plot."
      ],
      "metadata": {
        "id": "OPOoDA-yYayy"
      }
    },
    {
      "cell_type": "code",
      "source": [
        "#Displaying Leaves with Cassava Bacterial Blight (CBB)\n",
        "cbb_cassava = cassava[cassava['label'].isin([0])]\n",
        "cbb_img_list = list(cassava['image_id'])\n",
        "leafVisualizations(cbb_img_list)"
      ],
      "metadata": {
        "id": "lQOXXCj9VlSB"
      },
      "execution_count": null,
      "outputs": []
    },
    {
      "cell_type": "code",
      "source": [
        "#Displaying Leaves with Cassava Brown Streak Disease (CBSD)\n",
        "cbsd_cassava = cassava[cassava['label'].isin([1])]\n",
        "cbsd_img_list = list(cassava['image_id'])\n",
        "leafVisualizations(cbsd_img_list)"
      ],
      "metadata": {
        "id": "pXt5JMF3Vm7w"
      },
      "execution_count": null,
      "outputs": []
    },
    {
      "cell_type": "code",
      "source": [
        "#Displaying Leaves withCassava Green Mottle (CGM)\n",
        "cgm_cassava = cassava[cassava['label'].isin([2])]\n",
        "cgm_img_list = list(cassava['image_id'])\n",
        "leafVisualizations(cgm_img_list)"
      ],
      "metadata": {
        "id": "mj-YWqisVqac"
      },
      "execution_count": null,
      "outputs": []
    },
    {
      "cell_type": "code",
      "source": [
        "#Displaying Leaves with Cassava Mosaic Disease (CMD)\n",
        "cmd_cassava = cassava[cassava['label'].isin([3])]\n",
        "cmd_img_list = list(cassava['image_id'])\n",
        "leafVisualizations(cmd_img_list)"
      ],
      "metadata": {
        "id": "IEy4MkUPVrpE"
      },
      "execution_count": null,
      "outputs": []
    },
    {
      "cell_type": "code",
      "source": [
        "#Displaying Healthy Leaves\n",
        "healthy_cassava = cassava[cassava['label'].isin([4])]\n",
        "healthy_img_list = list(cassava['image_id'])\n",
        "leafVisualizations(healthy_img_list)"
      ],
      "metadata": {
        "id": "Rbe25DvIVs4l"
      },
      "execution_count": null,
      "outputs": []
    },
    {
      "cell_type": "code",
      "source": [],
      "metadata": {
        "id": "DqsbtKLL3lRC"
      },
      "execution_count": null,
      "outputs": []
    },
    {
      "cell_type": "markdown",
      "source": [
        "# Model and Pre-processing"
      ],
      "metadata": {
        "id": "LU6AX3pE3llA"
      }
    },
    {
      "cell_type": "code",
      "source": [
        "EPOCHS = 10\n",
        "BATCH_SIZE = 8\n",
        "TARGET_SIZE = 299\n",
        "BASE_DIR = \"drive/MyDrive/cassava/\""
      ],
      "metadata": {
        "id": "d1ZV7Rce465s"
      },
      "execution_count": 35,
      "outputs": []
    },
    {
      "cell_type": "markdown",
      "source": [
        "Setting Values for some commmon parameters to be used inna bunch of places. Here the reason for setting Batch size and epoch so low due to computational issues I faced."
      ],
      "metadata": {
        "id": "wARBo1OOZCfO"
      }
    },
    {
      "cell_type": "code",
      "source": [
        "\n",
        "def preprocessImages(image):\n",
        "    image = np.array(image, dtype=np.uint8)\n",
        "    #Gaussian Blur\n",
        "    gaussian_blur = cv2.GaussianBlur(image,(5,5),0)\n",
        "    img = np.asarray(gaussian_blur, dtype=np.float64)\n",
        "    return img\n"
      ],
      "metadata": {
        "id": "t5zZSb0cV0pd"
      },
      "execution_count": 36,
      "outputs": []
    },
    {
      "cell_type": "markdown",
      "source": [
        "This is a new method that I will be passing later as an returning method hereI aM converting the image taken as an input to a NumPy array, applying a Gaussian blur to smooth out the images."
      ],
      "metadata": {
        "id": "JmEVx_8-a38U"
      }
    },
    {
      "cell_type": "code",
      "source": [
        "cassava.label = cassava.label.astype('str')\n",
        "#ForTraining data\n",
        "dataGenerator = ImageDataGenerator(rescale=1.0/255,\n",
        "                             featurewise_center=True,\n",
        "                             featurewise_std_normalization=True,\n",
        "                             rotation_range=30,\n",
        "                             width_shift_range=0.3,\n",
        "                             height_shift_range=0.3,\n",
        "                             shear_range=15.0,\n",
        "                             zoom_range=0.3,\n",
        "                             horizontal_flip=True,\n",
        "                             brightness_range=[0.5, 1.0],\n",
        "                             validation_split=0.2,\n",
        "                             fill_mode='nearest',\n",
        "                             preprocessing_function=preprocessImages)\n",
        "\n",
        "\n",
        "trainDataGenerator = dataGenerator.flow_from_dataframe(cassava,\n",
        "                                            directory = os.path.join(BASE_DIR, \"train_images\"),\n",
        "                                            subset = \"training\",\n",
        "                                            x_col = \"image_id\",\n",
        "                                            y_col = \"label\",\n",
        "                                            target_size = (TARGET_SIZE, TARGET_SIZE),\n",
        "                                            batch_size = BATCH_SIZE,\n",
        "                                            class_mode = \"sparse\")\n",
        "\n",
        "#For Validation data\n",
        "validationDataGenerator = ImageDataGenerator(rescale=1.0/255,\n",
        "                                        validation_split=0.2,\n",
        "                                       preprocessing_function=preprocessImages)\n",
        "\n",
        "\n",
        "validDataGenerator = validationDataGenerator.flow_from_dataframe(cassava,\n",
        "                                            directory = os.path.join(BASE_DIR, \"train_images\"),\n",
        "                                            subset = \"validation\",\n",
        "                                            x_col = \"image_id\",\n",
        "                                            y_col = \"label\",\n",
        "                                            target_size = (TARGET_SIZE, TARGET_SIZE),\n",
        "                                            batch_size = BATCH_SIZE,\n",
        "                                            class_mode = \"sparse\")\n"
      ],
      "metadata": {
        "colab": {
          "base_uri": "https://localhost:8080/"
        },
        "id": "saCaThVs44FK",
        "outputId": "0e1d01fe-ed7d-45bd-c82d-9e290d37fb28"
      },
      "execution_count": 44,
      "outputs": [
        {
          "output_type": "stream",
          "name": "stdout",
          "text": [
            "Found 17116 validated image filenames belonging to 5 classes.\n",
            "Found 4278 validated image filenames belonging to 5 classes.\n"
          ]
        }
      ]
    },
    {
      "cell_type": "code",
      "source": [
        "#He Uniform Initializer for Dense Layer\n",
        "\n",
        "def my_init(shape, dtype=None):\n",
        "    initializer = tf.keras.initializers.he_uniform(seed = 1)\n",
        "    return initializer(shape, dtype=dtype)\n",
        "\n",
        "baseModel = Xception(weights = 'imagenet', include_top=False, input_shape = (TARGET_SIZE, TARGET_SIZE, 3), pooling=None)\n",
        "\n",
        "#Global Average pooling.\n",
        "poolingLayer = layers.GlobalAveragePooling2D()(baseModel.output)\n",
        "\n",
        "# Connected layer with units as 16, Activation function (ReLU).\n",
        "dense = layers.Dense(16, activation = \"relu\", kernel_initializer=my_init)(poolingLayer)\n",
        "\n",
        "#Batch normalization\n",
        "batchNormalization = layers.BatchNormalization()(dense)\n",
        "\n",
        "# To prevent overfitting using dropout with a rate of 0.2\n",
        "Dropout = layers.Dropout(0.2)(batchNormalization )\n",
        "\n",
        "model = layers.Dense(5, activation=\"softmax\")(Dropout)\n",
        "model = models.Model(baseModel.input, model)\n",
        "\n",
        "# Using Adam optimizer and displaying Loss and Accuracy\n",
        "model.compile(optimizer = Adam(lr = 0.001),loss = \"sparse_categorical_crossentropy\", metrics=[\"acc\"])\n",
        "\n",
        "\n",
        "callbacks = [ReduceLROnPlateau(monitor='val_loss', patience=1, verbose=1, factor=0.2),\n",
        "             EarlyStopping(monitor='val_loss', patience=3),\n",
        "             ModelCheckpoint(filepath=\"model.h5\", monitor='val_loss', save_best_only=True)]\n",
        "\n",
        "\n",
        "modelCassavaHistory = model.fit(trainDataGenerator, epochs = EPOCHS, validation_data = validDataGenerator, callbacks=callbacks)"
      ],
      "metadata": {
        "id": "Xvd3_uSWV4vw"
      },
      "execution_count": null,
      "outputs": []
    },
    {
      "cell_type": "code",
      "source": [
        "plt.style.use(\"ggplot\")\n",
        "plt.figure()\n",
        "N = 12\n",
        "plt.plot(np.arange(0, N), modelCassavaHistory.history[\"acc\"], label=\"trainAcc\")\n",
        "plt.plot(np.arange(0, N), modelCassavaHistory.history[\"val_acc\"], label=\"valAcc\")\n",
        "plt.title(\"Accuracy and Loss for model\")\n",
        "plt.xlabel(\"EPOCH NUMBER\")\n",
        "plt.ylabel(\"Loss/Accuracy\")\n",
        "plt.legend(loc=\"upper left\")\n",
        "plt.show()"
      ],
      "metadata": {
        "id": "ZUotegA7WGOg"
      },
      "execution_count": null,
      "outputs": []
    }
  ]
}